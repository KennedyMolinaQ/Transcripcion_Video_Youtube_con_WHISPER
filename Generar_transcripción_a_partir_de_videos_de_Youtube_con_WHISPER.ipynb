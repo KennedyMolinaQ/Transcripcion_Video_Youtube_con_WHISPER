{
  "cells": [
    {
      "cell_type": "markdown",
      "metadata": {
        "id": "view-in-github",
        "colab_type": "text"
      },
      "source": [
        "<a href=\"https://colab.research.google.com/github/KennedyMolinaQ/Transcripcion_Video_Youtube_con_WHISPER/blob/main/Generar_transcripci%C3%B3n_a_partir_de_videos_de_Youtube_con_WHISPER.ipynb\" target=\"_parent\"><img src=\"https://colab.research.google.com/assets/colab-badge.svg\" alt=\"Open In Colab\"/></a>"
      ]
    },
    {
      "cell_type": "markdown",
      "source": [
        "---\n",
        "title: \"Generar transcripción a partir de videos de Youtube con WHISPER\"\n",
        "\n",
        "author: \"KennedyMolinaQ\"\n",
        "\n",
        "date: \"03/03/2024\"\n",
        "\n",
        "---\n",
        "\n",
        "🎙️ **Whisper** es una herramienta desarrollada por OpenAI que permite transcribir automáticamente archivos de audio en texto. Utiliza modelos de lenguaje avanzados para lograr una transcripción precisa y eficiente.\n",
        "\n",
        "💡 Se podría utilizar para transcribir los audios de las llamadas de un call center para su posterior análisis.\n",
        "\n",
        "💡 Se podría utilizar para subtitular videos para subir a plataformas como Instagram o tiktok (considerando que tienen un mayor alcance aquellos que están subtitulados)\n",
        "En esta versión se utilizará videos de Youtube para fines prácticos.\n",
        "\n",
        "**Proceso:**\n",
        "\n",
        "1.   **Instalación:** Comienzo instalando las bibliotecas y dependencias necesarias. Esto incluye openai-whisper, ffmpeg, pytube y moviepy. Estas herramientas son esenciales para procesar y analizar los archivos de video y audio.\n",
        "\n",
        "2.   **Selección del Modelo:** A continuación, selecciono el tamaño del modelo de Whisper. Puedes elegir entre \"tiny\", \"base\", \"small\", \"medium\" o \"large\", según tus necesidades. Esta elección determina la precisión y complejidad de la transcripción.\n",
        "\n",
        "3.   **Procesamiento de Video/Audio:** Proporciono la URL del video de YouTube que deseo transcribir. El código descarga el video en formato MP4 y lo convierte en un archivo MP3. Este paso garantiza que estemos trabajando con la parte de audio del video.\n",
        "4.   **Generación de Transcripción:** Utilizando el modelo de Whisper seleccionado, transcribo el archivo de audio. La transcripción resultante se guarda en un archivo de texto. Además, el código extrae los segmentos individuales de la transcripción y los sincroniza con sus respectivas marcas de tiempo.\n",
        "\n",
        "5.   **Descargar y Compartir:** Por último, descargo el archivo de transcripción y el archivo de transcripción sincronizada. Esto me permite tener un registro escrito de la transcripción y la versión sincronizada para una fácil referencia.\n",
        "\n",
        "\n",
        "\n",
        "🔗 Encuentra el código tutorial completo [aquí](htthttps://colab.research.google.com/drive/1zBm1hqxvPUSsqD3PJU1xUQZAJ9qdwmQF?usp=sharingp:// \"aquí\") o en https://github.com/KennedyMolinaQ\n",
        "\n",
        "\n",
        "Cuéntame qué opinas sobre esta técnica de transcripción y si te resulta útil en tu trabajo. Comparte tus experiencias o cualquier pregunta que puedas tener. ¡Juntos, desbloqueemos el potencial de la inteligencia artificial en la transcripción!\n",
        "\n"
      ],
      "metadata": {
        "id": "Cl6_-7eeCx4N"
      }
    },
    {
      "cell_type": "code",
      "execution_count": 1,
      "metadata": {
        "id": "LG-5mkr2CnT8",
        "cellView": "form"
      },
      "outputs": [],
      "source": [
        "#@title Pip Install\n",
        "from IPython.display import clear_output\n",
        "!pip install -U openai-whisper -q > /dev/null 2>&1;\n",
        "!sudo apt update && sudo apt install ffmpeg -q > /dev/null 2>&1;\n",
        "!pip install pytube -q > /dev/null 2>&1;\n",
        "!pip install moviepy -q > /dev/null 2>&1;\n",
        "clear_output()"
      ]
    },
    {
      "cell_type": "code",
      "execution_count": 2,
      "metadata": {
        "cellView": "form",
        "colab": {
          "base_uri": "https://localhost:8080/",
          "height": 0
        },
        "id": "QoThgmDFWD5n",
        "outputId": "3454ad66-ecc1-49ae-9944-1abdc04ca232"
      },
      "outputs": [
        {
          "output_type": "stream",
          "name": "stderr",
          "text": [
            "100%|██████████████████████████████████████| 1.42G/1.42G [00:12<00:00, 122MiB/s]\n"
          ]
        }
      ],
      "source": [
        "#@title  🚩 Seleccionar tamaño de modelo\n",
        "import whisper\n",
        "modelo_de_entrenamiento = \"medium\" #@param [\"tiny\",\"base\", \"small\", \"medium\",\"large\"]\n",
        "model = whisper.load_model(modelo_de_entrenamiento)"
      ]
    },
    {
      "cell_type": "code",
      "execution_count": 3,
      "metadata": {
        "id": "y0shMty6YSjD",
        "cellView": "form"
      },
      "outputs": [],
      "source": [
        "#@title  🚩 Video / Audio\n",
        "from pytube import YouTube\n",
        "import moviepy.editor as mp\n",
        "\n",
        "url = 'https://www.youtube.com/watch?v=DbPTmR3N_XU&ab_channel=DotCSV'#@param {type:\"string\"}\n",
        "# Descargar el video de YouTube en formato MP4\n",
        "yt = YouTube(url)\n",
        "video = yt.streams.filter(only_audio=True).first()\n",
        "video.download(output_path='/content', filename='video.mp4')\n",
        "# Convertir el archivo MP4 a MP3 (opcional)\n",
        "clip = mp.AudioFileClip(\"/content/video.mp4\")\n",
        "clip.write_audiofile(\"/content/audio.mp3\")\n",
        "clip.close()\n",
        "clear_output()"
      ]
    },
    {
      "cell_type": "code",
      "execution_count": 4,
      "metadata": {
        "colab": {
          "base_uri": "https://localhost:8080/",
          "height": 17
        },
        "id": "RM9PSnJzaDMK",
        "outputId": "91217a96-c56b-4ce2-c252-5a9954213f64",
        "cellView": "form"
      },
      "outputs": [
        {
          "output_type": "display_data",
          "data": {
            "text/plain": [
              "<IPython.core.display.Javascript object>"
            ],
            "application/javascript": [
              "\n",
              "    async function download(id, filename, size) {\n",
              "      if (!google.colab.kernel.accessAllowed) {\n",
              "        return;\n",
              "      }\n",
              "      const div = document.createElement('div');\n",
              "      const label = document.createElement('label');\n",
              "      label.textContent = `Downloading \"${filename}\": `;\n",
              "      div.appendChild(label);\n",
              "      const progress = document.createElement('progress');\n",
              "      progress.max = size;\n",
              "      div.appendChild(progress);\n",
              "      document.body.appendChild(div);\n",
              "\n",
              "      const buffers = [];\n",
              "      let downloaded = 0;\n",
              "\n",
              "      const channel = await google.colab.kernel.comms.open(id);\n",
              "      // Send a message to notify the kernel that we're ready.\n",
              "      channel.send({})\n",
              "\n",
              "      for await (const message of channel.messages) {\n",
              "        // Send a message to notify the kernel that we're ready.\n",
              "        channel.send({})\n",
              "        if (message.buffers) {\n",
              "          for (const buffer of message.buffers) {\n",
              "            buffers.push(buffer);\n",
              "            downloaded += buffer.byteLength;\n",
              "            progress.value = downloaded;\n",
              "          }\n",
              "        }\n",
              "      }\n",
              "      const blob = new Blob(buffers, {type: 'application/binary'});\n",
              "      const a = document.createElement('a');\n",
              "      a.href = window.URL.createObjectURL(blob);\n",
              "      a.download = filename;\n",
              "      div.appendChild(a);\n",
              "      a.click();\n",
              "      div.remove();\n",
              "    }\n",
              "  "
            ]
          },
          "metadata": {}
        },
        {
          "output_type": "display_data",
          "data": {
            "text/plain": [
              "<IPython.core.display.Javascript object>"
            ],
            "application/javascript": [
              "download(\"download_801a6441-a650-4d01-9e4a-d4e22d7d1ccb\", \"transcripcion.txt\", 18184)"
            ]
          },
          "metadata": {}
        },
        {
          "output_type": "display_data",
          "data": {
            "text/plain": [
              "<IPython.core.display.Javascript object>"
            ],
            "application/javascript": [
              "\n",
              "    async function download(id, filename, size) {\n",
              "      if (!google.colab.kernel.accessAllowed) {\n",
              "        return;\n",
              "      }\n",
              "      const div = document.createElement('div');\n",
              "      const label = document.createElement('label');\n",
              "      label.textContent = `Downloading \"${filename}\": `;\n",
              "      div.appendChild(label);\n",
              "      const progress = document.createElement('progress');\n",
              "      progress.max = size;\n",
              "      div.appendChild(progress);\n",
              "      document.body.appendChild(div);\n",
              "\n",
              "      const buffers = [];\n",
              "      let downloaded = 0;\n",
              "\n",
              "      const channel = await google.colab.kernel.comms.open(id);\n",
              "      // Send a message to notify the kernel that we're ready.\n",
              "      channel.send({})\n",
              "\n",
              "      for await (const message of channel.messages) {\n",
              "        // Send a message to notify the kernel that we're ready.\n",
              "        channel.send({})\n",
              "        if (message.buffers) {\n",
              "          for (const buffer of message.buffers) {\n",
              "            buffers.push(buffer);\n",
              "            downloaded += buffer.byteLength;\n",
              "            progress.value = downloaded;\n",
              "          }\n",
              "        }\n",
              "      }\n",
              "      const blob = new Blob(buffers, {type: 'application/binary'});\n",
              "      const a = document.createElement('a');\n",
              "      a.href = window.URL.createObjectURL(blob);\n",
              "      a.download = filename;\n",
              "      div.appendChild(a);\n",
              "      a.click();\n",
              "      div.remove();\n",
              "    }\n",
              "  "
            ]
          },
          "metadata": {}
        },
        {
          "output_type": "display_data",
          "data": {
            "text/plain": [
              "<IPython.core.display.Javascript object>"
            ],
            "application/javascript": [
              "download(\"download_9e6db551-54f0-4456-8db8-624867644e77\", \"transcripcion_sincronizada.txt\", 24547)"
            ]
          },
          "metadata": {}
        }
      ],
      "source": [
        "#@title  🚩 Generar Transcripción\n",
        "from google.colab import files\n",
        "# Guardar el texto transcritoen un archivo\n",
        "result = model.transcribe(f\"/content/audio.mp3\")\n",
        "with open(\"/content/transcripcion.txt\", \"w\") as file:\n",
        "    file.write(result[\"text\"])\n",
        "\n",
        "# Obtener los segmentos de la transcripción\n",
        "segmentos = result[\"segments\"]\n",
        "# Generar la transcripción con sincronización\n",
        "transcripcion_sincronizada = \"\"\n",
        "for segmento in segmentos:\n",
        "    inicio = segmento[\"start\"]\n",
        "    fin = segmento[\"end\"]\n",
        "    texto = segmento[\"text\"]\n",
        "    transcripcion_sincronizada += f\"{inicio} - {fin}: {texto}\\n\"\n",
        "\n",
        "# Guardar la transcripción con sincronización en un archivo de texto\n",
        "with open(\"/content/transcripcion_sincronizada.txt\", \"w\") as file:\n",
        "    file.write(transcripcion_sincronizada)\n",
        "# Descargar el archivo a tu computadora\n",
        "files.download(\"transcripcion.txt\")\n",
        "# Descargar el archivo de transcripción sincronizada a tu computadora\n",
        "files.download(\"/content/transcripcion_sincronizada.txt\")"
      ]
    }
  ],
  "metadata": {
    "accelerator": "GPU",
    "colab": {
      "gpuType": "T4",
      "provenance": [],
      "authorship_tag": "ABX9TyMcW9H+u8c2UtDvellCWCTk",
      "include_colab_link": true
    },
    "kernelspec": {
      "display_name": "Python 3",
      "name": "python3"
    },
    "language_info": {
      "name": "python"
    }
  },
  "nbformat": 4,
  "nbformat_minor": 0
}